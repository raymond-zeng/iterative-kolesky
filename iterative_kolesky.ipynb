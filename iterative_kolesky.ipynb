{
 "cells": [
  {
   "cell_type": "code",
   "execution_count": 1,
   "metadata": {},
   "outputs": [],
   "source": [
    "import numpy as np\n",
    "from scipy.spatial import KDTree\n",
    "import matplotlib.pyplot as plt\n",
    "import scipy.linalg"
   ]
  },
  {
   "cell_type": "markdown",
   "metadata": {
    "vscode": {
     "languageId": "latex"
    }
   },
   "source": [
    "Methods to calculate KL-Divergence. When the optimal cholesky factor is used, the trace factor cancels."
   ]
  },
  {
   "cell_type": "code",
   "execution_count": 3,
   "metadata": {},
   "outputs": [],
   "source": [
    "def logdet_chol(A):\n",
    "    return 2 * np.sum(np.log(A.diagonal()))\n",
    "\n",
    "def kl_div(A, B):\n",
    "    n = A.shape[0]\n",
    "    return 0.5 * (np.trace(np.linalg.solve(B, A)) - n + np.linalg.slogdet(B)[1] - np.linalg.slogdet(A)[1])\n",
    "\n",
    "def sparse_kl_div(A, L):\n",
    "    n = A.shape[0]\n",
    "    return 0.5 * (-logdet_chol(L) - np.linalg.slogdet(A)[1])"
   ]
  },
  {
   "cell_type": "code",
   "execution_count": 4,
   "metadata": {
    "vscode": {
     "languageId": "latex"
    }
   },
   "outputs": [
    {
     "data": {
      "text/latex": [
       "Matern kernel with $\\nu = \\frac{1}{2}$ and $l=1$: $$\\Theta_{i,j} = -\\exp(||x_i-x_j||_2)$$\n"
      ],
      "text/plain": [
       "<IPython.core.display.Latex object>"
      ]
     },
     "metadata": {},
     "output_type": "display_data"
    }
   ],
   "source": [
    "%%latex\n",
    "Matern kernel with $\\nu = \\frac{1}{2}$ and $l=1$: $$\\Theta_{i,j} = -\\exp(||x_i-x_j||_2)$$"
   ]
  },
  {
   "cell_type": "code",
   "execution_count": 5,
   "metadata": {},
   "outputs": [],
   "source": [
    "def kernel(points):\n",
    "    n = points.shape[0]\n",
    "    A = np.zeros((n, n))\n",
    "    for i in range(n):\n",
    "        for j in range(n):\n",
    "            A[i, j] = np.exp(-np.linalg.norm(points[i] - points[j]))\n",
    "    return A"
   ]
  },
  {
   "cell_type": "markdown",
   "metadata": {
    "vscode": {
     "languageId": "latex"
    }
   },
   "source": [
    "Orderings for the Cholesky factorization by picking the maximum of the minimum distances between points."
   ]
  },
  {
   "cell_type": "code",
   "execution_count": 7,
   "metadata": {},
   "outputs": [],
   "source": [
    "def reverse_maximin(points):\n",
    "    n = np.shape(points)[0]\n",
    "    indices = np.zeros(n, dtype=int)\n",
    "    lengths = np.zeros(n, dtype=float)\n",
    "    dists = np.zeros(n)\n",
    "    for i in range(1, n):\n",
    "        dists[i] = np.linalg.norm(points[i] - points[0])\n",
    "    indices[-1] = 0\n",
    "    lengths[-1] = np.inf\n",
    "    for i in range(n - 2, -1, -1):\n",
    "        k = np.argmax(dists)\n",
    "        indices[i] = k\n",
    "        lengths[i] = dists[k]\n",
    "        dists = np.minimum(dists, np.linalg.norm(points[k] - points, axis=1))\n",
    "    return indices, lengths\n",
    "\n",
    "def maximin(points):\n",
    "    n = np.shape(points)[0]\n",
    "    indices = np.zeros(n, dtype=int)\n",
    "    lengths = np.zeros(n, dtype=float)\n",
    "    dists = np.zeros(n)\n",
    "    for i in range(1, n):\n",
    "        dists[i] = np.linalg.norm(points[i] - points[0])\n",
    "    indices[0] = 0\n",
    "    lengths[0] = np.inf\n",
    "    for i in range(1, n):\n",
    "        k = np.argmax(dists)\n",
    "        indices[i] = k\n",
    "        lengths[i] = dists[k]\n",
    "        dists = np.minimum(dists, np.linalg.norm(points[k] - points, axis=1))\n",
    "    return indices, lengths"
   ]
  },
  {
   "cell_type": "code",
   "execution_count": null,
   "metadata": {
    "vscode": {
     "languageId": "latex"
    }
   },
   "outputs": [
    {
     "data": {
      "text/latex": [
       "Sparsity patterns which can naively be calculated by checking if $||x_i-x_j||_2 < \\rho\\min(l_i,l_j)$\n"
      ],
      "text/plain": [
       "<IPython.core.display.Latex object>"
      ]
     },
     "metadata": {},
     "output_type": "display_data"
    }
   ],
   "source": [
    "%%latex\n",
    "Sparsity patterns which can naively be calculated by checking if $||x_i-x_j||_2 <= \\rho\\min(l_i,l_j)$"
   ]
  },
  {
   "cell_type": "code",
   "execution_count": null,
   "metadata": {},
   "outputs": [],
   "source": [
    "def naive_sparsity_pattern(points, lengths, rho):\n",
    "    n = len(points)\n",
    "    sparsity = {i : [] for i in range(n)}\n",
    "    for i in range(n):\n",
    "        for j in range(i, n):\n",
    "            if np.linalg.norm(points[i] - points[j]) <= min(lengths[i], lengths[j]) * rho:\n",
    "                sparsity[i].append(j)\n",
    "    return sparsity\n",
    "\n",
    "def kd_sparsity_pattern(points, lengths, rho):\n",
    "    tree = KDTree(points)\n",
    "    near = tree.query_ball_point(points, rho * lengths)\n",
    "    return {i: [j for j in near[i] if j >= i] for i in range(len(points))}"
   ]
  },
  {
   "cell_type": "code",
   "execution_count": 17,
   "metadata": {
    "vscode": {
     "languageId": "latex"
    }
   },
   "outputs": [
    {
     "data": {
      "text/latex": [
       "Aggregate sparsity pattern into supernode groups such that: $l_j \\leq \\lambda l_i$\n"
      ],
      "text/plain": [
       "<IPython.core.display.Latex object>"
      ]
     },
     "metadata": {},
     "output_type": "display_data"
    }
   ],
   "source": [
    "%%latex\n",
    "Aggregate sparsity pattern into supernode groups such that: $l_j \\leq \\lambda l_i$"
   ]
  },
  {
   "cell_type": "code",
   "execution_count": 10,
   "metadata": {},
   "outputs": [],
   "source": [
    "def supernodes(sparsity, lengths, lamb):\n",
    "    groups = []\n",
    "    candidates = set(range(len(lengths)))\n",
    "    agg_sparsity = {}\n",
    "    i = 0\n",
    "    while len(candidates) > 0:\n",
    "        while i not in candidates:\n",
    "            i += 1\n",
    "        group = sorted(j for j in sparsity[i] if lengths[j] <= lamb * lengths[i] and j in candidates)\n",
    "        groups.append(group)\n",
    "        candidates -= set(group)\n",
    "        s = sorted({k for j in group for k in sparsity[j]})\n",
    "        agg_sparsity[group[0]] = s\n",
    "    return groups, agg_sparsity"
   ]
  },
  {
   "cell_type": "code",
   "execution_count": 18,
   "metadata": {
    "vscode": {
     "languageId": "latex"
    }
   },
   "outputs": [
    {
     "data": {
      "text/latex": [
       "Naive sparse cholesky factorization using KL-Divergence by using $$L_{s_i} = \\frac{\\Theta_{s_i,s_i}^{-1}e_1}{\\sqrt{e_1^T\\Theta_{s_i,s_i}^{-1}e_1}}$$\n"
      ],
      "text/plain": [
       "<IPython.core.display.Latex object>"
      ]
     },
     "metadata": {},
     "output_type": "display_data"
    }
   ],
   "source": [
    "%%latex\n",
    "Naive sparse cholesky factorization using KL-Divergence by using $$L_{s_i} = \\frac{\\Theta_{s_i,s_i}^{-1}e_1}{\\sqrt{e_1^T\\Theta_{s_i,s_i}^{-1}e_1}}$$"
   ]
  },
  {
   "cell_type": "code",
   "execution_count": null,
   "metadata": {},
   "outputs": [],
   "source": [
    "def col(theta, s):\n",
    "    m = np.zeros((len(s), len(s)))\n",
    "    for i in range(len(s)):\n",
    "        for j in range(len(s)):\n",
    "            m[i, j] = theta[s[i], s[j]]\n",
    "    m = np.linalg.inv(m)\n",
    "    return m[:, 0] / np.sqrt(m[0, 0])\n",
    "\n",
    "def chol(theta, sparsity):\n",
    "    n = len(sparsity)\n",
    "    L = np.zeros((n, n))\n",
    "    for i in range(n):\n",
    "        s = sorted(sparsity[i])\n",
    "        c = col(theta, s)\n",
    "        for j in range(len(s)):\n",
    "            L[s[j], i] = c[j]\n",
    "    return L\n",
    "\n",
    "def naive_kl_cholesky(points, rho):\n",
    "    indices, lengths = reverse_maximin(points)\n",
    "    ordered_points = points[indices]\n",
    "    sparsity = kd_sparsity_pattern(ordered_points, lengths, rho)\n",
    "    theta = kernel(ordered_points)\n",
    "    return chol(theta, sparsity)"
   ]
  },
  {
   "cell_type": "code",
   "execution_count": 27,
   "metadata": {
    "vscode": {
     "languageId": "latex"
    }
   },
   "outputs": [
    {
     "data": {
      "text/latex": [
       "The aggregated cholesky factorization forms supernodes and then calculates the cholesky factor using $$L_{:, k} = U^{-T}e_k$$\n",
       "Note that $flip(chol(flip(\\Theta))) = (chol(\\Theta^{-1}))^{-1}=U^T$\n"
      ],
      "text/plain": [
       "<IPython.core.display.Latex object>"
      ]
     },
     "metadata": {},
     "output_type": "display_data"
    }
   ],
   "source": [
    "%%latex\n",
    "The aggregated cholesky factorization forms supernodes and then calculates the cholesky factor using $$L_{:, k} = U^{-T}e_k$$\n",
    "Note that $flip(chol(flip(\\Theta))) = (chol(\\Theta^{-1}))^{-1}=U^T$"
   ]
  },
  {
   "cell_type": "code",
   "execution_count": 13,
   "metadata": {},
   "outputs": [],
   "source": [
    "def cols(theta):\n",
    "    return np.flip(np.linalg.cholesky(np.flip(theta))).T\n",
    "\n",
    "def aggregate_chol(theta, sparsity, groups):\n",
    "    n = len(theta)\n",
    "    L = np.zeros((n, n))\n",
    "    for group in groups:\n",
    "        s = sorted(sparsity[group[0]])\n",
    "        positions = {i: k for k, i in enumerate(s)}\n",
    "        m = np.zeros((len(s), len(s)))\n",
    "        for i in range(len(s)):\n",
    "            for j in range(len(s)):\n",
    "                m[i, j] = theta[s[i], s[j]]\n",
    "        L_group = cols(m)\n",
    "        for i in group:\n",
    "            k = positions[i]\n",
    "            e_k = np.zeros(len(s))\n",
    "            e_k[k] = 1\n",
    "            col = scipy.linalg.solve_triangular(L_group, e_k, lower=True, check_finite=False)\n",
    "            for j in range(k, len(s)):\n",
    "                L[s[j], i] = col[j]\n",
    "    return L\n",
    "\n",
    "def aggregated_kl_cholesky(points, rho, lamb):\n",
    "    indices, lengths = reverse_maximin(points)\n",
    "    ordered_points = points[indices]\n",
    "    sparsity = kd_sparsity_pattern(ordered_points, lengths, rho)\n",
    "    groups, agg_sparsity = supernodes(sparsity, lengths, lamb)\n",
    "    theta = kernel(ordered_points)\n",
    "    return aggregate_chol(theta, agg_sparsity, groups)"
   ]
  },
  {
   "cell_type": "code",
   "execution_count": 20,
   "metadata": {
    "vscode": {
     "languageId": "latex"
    }
   },
   "outputs": [
    {
     "data": {
      "text/latex": [
       "The iterative method finds $L$ using the above methods, creates a new kernel matrix $L^T\\Theta L$ and then finds the sparse cholesky factor $L'$. The final result is $LL'$\n"
      ],
      "text/plain": [
       "<IPython.core.display.Latex object>"
      ]
     },
     "metadata": {},
     "output_type": "display_data"
    }
   ],
   "source": [
    "%%latex\n",
    "The iterative method finds $L$ using the above methods, creates a new kernel matrix $L^T\\Theta L$ and then finds the sparse cholesky factor $L'$. The final result is $LL'$"
   ]
  },
  {
   "cell_type": "code",
   "execution_count": null,
   "metadata": {},
   "outputs": [],
   "source": [
    "def naive_iterative_kl_cholesky(points, rho):\n",
    "    indices, lengths = reverse_maximin(points)\n",
    "    ordered_points = points[indices]\n",
    "    sparsity = naive_sparsity_pattern(ordered_points, lengths, rho)\n",
    "    theta = kernel(ordered_points)\n",
    "    L = chol(theta, sparsity)\n",
    "    new_kernel = L.T @ theta @ L\n",
    "    return L @ chol(new_kernel, sparsity)\n",
    "\n",
    "def iterative_aggregated_kl_cholesky(points, rho, lamb):\n",
    "    indices, lengths = reverse_maximin(points)\n",
    "    ordered_points = points[indices]\n",
    "    sparsity = naive_sparsity_pattern(ordered_points, lengths, rho)\n",
    "    groups, agg_sparsity = supernodes(sparsity, lengths, lamb)\n",
    "    theta = kernel(ordered_points)\n",
    "    L = aggregate_chol(theta, agg_sparsity, groups)\n",
    "    new_kernel = L.T @ theta @ L\n",
    "    return L @ aggregate_chol(new_kernel, agg_sparsity, groups)"
   ]
  }
 ],
 "metadata": {
  "kernelspec": {
   "display_name": "base",
   "language": "python",
   "name": "python3"
  },
  "language_info": {
   "codemirror_mode": {
    "name": "ipython",
    "version": 3
   },
   "file_extension": ".py",
   "mimetype": "text/x-python",
   "name": "python",
   "nbconvert_exporter": "python",
   "pygments_lexer": "ipython3",
   "version": "3.11.5"
  }
 },
 "nbformat": 4,
 "nbformat_minor": 2
}
