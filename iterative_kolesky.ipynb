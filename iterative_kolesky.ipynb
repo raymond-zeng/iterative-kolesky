{
 "cells": [
  {
   "cell_type": "code",
   "execution_count": 27,
   "metadata": {},
   "outputs": [],
   "source": [
    "import numpy as np\n",
    "from scipy.spatial import KDTree\n",
    "import matplotlib.pyplot as plt\n",
    "import scipy.linalg\n",
    "import scipy.sparse as sparse\n",
    "import sklearn.gaussian_process.kernels as kernels\n",
    "from KoLesky.maxheap import Heap\n",
    "from KoLesky.ordering import reverse_maximin\n",
    "from KoLesky.ordering import sparsity_pattern"
   ]
  },
  {
   "cell_type": "code",
   "execution_count": 3,
   "metadata": {},
   "outputs": [],
   "source": [
    "def create_points(n):\n",
    "    points = np.zeros((n * n, 2))\n",
    "    for i in range(n):\n",
    "        for j in range(n):\n",
    "            perturbation = np.random.uniform(-0.2, 0.2, 2)\n",
    "            points[i * n + j] = np.array([i - n/2, j - n/2]) + perturbation\n",
    "    return points"
   ]
  },
  {
   "cell_type": "markdown",
   "metadata": {
    "vscode": {
     "languageId": "latex"
    }
   },
   "source": [
    "Methods to calculate KL-Divergence. When the optimal cholesky factor is used, the trace factor cancels."
   ]
  },
  {
   "cell_type": "code",
   "execution_count": 4,
   "metadata": {},
   "outputs": [],
   "source": [
    "def logdet_chol(A):\n",
    "    return 2 * np.sum(np.log(A.diagonal()))\n",
    "\n",
    "def kl_div(A, B):\n",
    "    n = A.shape[0]\n",
    "    return 0.5 * (np.trace(np.linalg.solve(B, A)) - n + np.linalg.slogdet(B)[1] - np.linalg.slogdet(A)[1])\n",
    "\n",
    "def sparse_kl_div(A, L):\n",
    "    n = A.shape[0]\n",
    "    return 0.5 * (-logdet_chol(L) - np.linalg.slogdet(A)[1])"
   ]
  },
  {
   "cell_type": "markdown",
   "metadata": {
    "vscode": {
     "languageId": "latex"
    }
   },
   "source": [
    "Orderings for the Cholesky factorization by picking the maximum of the minimum distances between points."
   ]
  },
  {
   "cell_type": "code",
   "execution_count": 5,
   "metadata": {},
   "outputs": [],
   "source": [
    "def py_reverse_maximin(points):\n",
    "    n = len(points)\n",
    "    indices = np.zeros(n, dtype=np.int64)\n",
    "    lengths = np.zeros(n)\n",
    "    tree = KDTree(points)\n",
    "    dists = np.linalg.norm(points - points[0], axis=1)\n",
    "    indices = np.zeros(n, dtype=np.int64)\n",
    "    lengths = np.zeros(n)\n",
    "    heap = Heap(dists, np.arange(n))\n",
    "    for i in range(n - 1, -1, -1):\n",
    "        lk, k = heap.pop()\n",
    "        indices[i] = k\n",
    "        lengths[i] = lk\n",
    "        js = tree.query_ball_point(points[k], lk)\n",
    "        dists = np.linalg.norm(points[js] - points[k], axis=1)\n",
    "        for index, j in enumerate(js):\n",
    "            heap.decrease_key(j, dists[index])\n",
    "    return indices, lengths"
   ]
  },
  {
   "cell_type": "code",
   "execution_count": 6,
   "metadata": {
    "vscode": {
     "languageId": "latex"
    }
   },
   "outputs": [
    {
     "data": {
      "text/latex": [
       "Sparsity patterns which can naively be calculated by checking if $||x_i-x_j||_2 \\leq \\rho\\min(l_i,l_j)$\n"
      ],
      "text/plain": [
       "<IPython.core.display.Latex object>"
      ]
     },
     "metadata": {},
     "output_type": "display_data"
    }
   ],
   "source": [
    "%%latex\n",
    "Sparsity patterns which can naively be calculated by checking if $||x_i-x_j||_2 \\leq \\rho\\min(l_i,l_j)$"
   ]
  },
  {
   "cell_type": "code",
   "execution_count": 7,
   "metadata": {},
   "outputs": [],
   "source": [
    "def naive_sparsity_pattern(points, lengths, rho):\n",
    "    n = len(points)\n",
    "    sparsity = {i : [] for i in range(n)}\n",
    "    for i in range(n):\n",
    "        for j in range(i, n):\n",
    "            if np.linalg.norm(points[i] - points[j]) <= min(lengths[i], lengths[j]) * rho:\n",
    "                sparsity[i].append(j)\n",
    "    return sparsity\n",
    "\n",
    "def kd_sparsity_pattern(points, lengths, rho):\n",
    "    tree = KDTree(points)\n",
    "    near = tree.query_ball_point(points, rho * lengths)\n",
    "    return {i: [j for j in near[i] if j >= i] for i in range(len(points))}\n",
    "\n",
    "def py_sparsity_pattern(points, lengths, rho):\n",
    "    tree, offset, length_scale = KDTree(points), 0, lengths[0]\n",
    "    sparsity = {}\n",
    "    for i in range(len(points)):\n",
    "        if lengths[i] > 2 * length_scale:\n",
    "            tree, offset, length_scale = KDTree(points[i:]), i, lengths[i]\n",
    "        sparsity[i] = [\n",
    "            offset + j\n",
    "            for j in tree.query_ball_point(points[i], rho * lengths[i])\n",
    "            if offset + j >= i\n",
    "        ]\n",
    "    return sparsity"
   ]
  },
  {
   "cell_type": "code",
   "execution_count": 8,
   "metadata": {
    "vscode": {
     "languageId": "latex"
    }
   },
   "outputs": [
    {
     "data": {
      "text/latex": [
       "Aggregate sparsity pattern into supernode groups such that: $l_j \\leq \\lambda l_i$\n"
      ],
      "text/plain": [
       "<IPython.core.display.Latex object>"
      ]
     },
     "metadata": {},
     "output_type": "display_data"
    }
   ],
   "source": [
    "%%latex\n",
    "Aggregate sparsity pattern into supernode groups such that: $l_j \\leq \\lambda l_i$"
   ]
  },
  {
   "cell_type": "code",
   "execution_count": 9,
   "metadata": {},
   "outputs": [],
   "source": [
    "def supernodes(sparsity, lengths, lamb):\n",
    "    groups = []\n",
    "    candidates = set(range(len(lengths)))\n",
    "    agg_sparsity = {}\n",
    "    i = 0\n",
    "    while len(candidates) > 0:\n",
    "        while i not in candidates:\n",
    "            i += 1\n",
    "        group = sorted(j for j in sparsity[i] if lengths[j] <= lamb * lengths[i] and j in candidates)\n",
    "        groups.append(group)\n",
    "        candidates -= set(group)\n",
    "        s = sorted({k for j in group for k in sparsity[j]})\n",
    "        agg_sparsity[group[0]] = s\n",
    "        positions = {k: j for j, k in enumerate(s)}\n",
    "        for j in group[1:]:\n",
    "            agg_sparsity[j] = np.empty(len(s) - positions[j], dtype=int)\n",
    "    return groups, agg_sparsity"
   ]
  },
  {
   "cell_type": "code",
   "execution_count": 10,
   "metadata": {
    "vscode": {
     "languageId": "latex"
    }
   },
   "outputs": [
    {
     "data": {
      "text/latex": [
       "Naive sparse cholesky factorization using KL-Divergence by using $$L_{s_i} = \\frac{\\Theta_{s_i,s_i}^{-1}e_1}{\\sqrt{e_1^T\\Theta_{s_i,s_i}^{-1}e_1}}$$\n"
      ],
      "text/plain": [
       "<IPython.core.display.Latex object>"
      ]
     },
     "metadata": {},
     "output_type": "display_data"
    }
   ],
   "source": [
    "%%latex\n",
    "Naive sparse cholesky factorization using KL-Divergence by using $$L_{s_i} = \\frac{\\Theta_{s_i,s_i}^{-1}e_1}{\\sqrt{e_1^T\\Theta_{s_i,s_i}^{-1}e_1}}$$"
   ]
  },
  {
   "cell_type": "code",
   "execution_count": 11,
   "metadata": {},
   "outputs": [],
   "source": [
    "def col(theta):\n",
    "    m = np.linalg.inv(theta)\n",
    "    return m[:, 0] / np.sqrt(m[0, 0])\n",
    "\n",
    "def chol(points, kernel, sparsity):\n",
    "    n = len(points)\n",
    "    ptr = np.cumsum([0] + [len(sparsity[i]) for i in range(n)])\n",
    "    data, indices = np.zeros(ptr[-1]), np.zeros(ptr[-1])\n",
    "    for i in range(n):\n",
    "        s = sorted(sparsity[i])\n",
    "        c = col(kernel(points[s]))\n",
    "        data[ptr[i] : ptr[i + 1]] = c\n",
    "        indices[ptr[i] : ptr[i + 1]] = s\n",
    "    return sparse.csc_matrix((data, indices, ptr), shape=(n, n))\n",
    "\n",
    "def naive_kl_cholesky(points, rho):\n",
    "    indices, lengths = reverse_maximin(points)\n",
    "    ordered_points = points[indices]\n",
    "    sparsity = kd_sparsity_pattern(ordered_points, lengths, rho)\n",
    "    kernel = kernels.Matern(length_scale=1.0, nu=0.5)\n",
    "    return chol(ordered_points, kernel, sparsity)"
   ]
  },
  {
   "cell_type": "code",
   "execution_count": 12,
   "metadata": {
    "vscode": {
     "languageId": "latex"
    }
   },
   "outputs": [
    {
     "data": {
      "text/latex": [
       "The aggregated cholesky factorization forms supernodes and then calculates the cholesky factor using $$L_{:, k} = U^{-T}e_k$$\n",
       "Note that $\\text{flip}(A) = PAP$ where $P$ is the order reversing permutation matrix, so $(P\\text{chol}(P\\Theta P)P)^T = (\\text{chol}(\\Theta^{-1}))^{-1}=U^T$\n"
      ],
      "text/plain": [
       "<IPython.core.display.Latex object>"
      ]
     },
     "metadata": {},
     "output_type": "display_data"
    }
   ],
   "source": [
    "%%latex\n",
    "The aggregated cholesky factorization forms supernodes and then calculates the cholesky factor using $$L_{:, k} = U^{-T}e_k$$\n",
    "Note that $\\text{flip}(A) = PAP$ where $P$ is the order reversing permutation matrix, so $(P\\text{chol}(P\\Theta P)P)^T = (\\text{chol}(\\Theta^{-1}))^{-1}=U^T$"
   ]
  },
  {
   "cell_type": "code",
   "execution_count": 13,
   "metadata": {},
   "outputs": [],
   "source": [
    "def cols(theta):\n",
    "    return np.flip(np.linalg.cholesky(np.flip(theta))).T\n",
    "\n",
    "def aggregate_chol(points, kernel, sparsity, groups):\n",
    "    n = len(points)\n",
    "    ptr = np.cumsum([0] + [len(sparsity[i]) for i in range(n)])\n",
    "    data, indices = np.zeros(ptr[-1]), np.zeros(ptr[-1])\n",
    "    for group in groups:\n",
    "        s = sorted(sparsity[group[0]])\n",
    "        positions = {i: k for k, i in enumerate(s)}\n",
    "        L_group = cols(kernel(points[s]))\n",
    "        for i in group:\n",
    "            k = positions[i]\n",
    "            e_k = np.zeros(len(s))\n",
    "            e_k[k] = 1\n",
    "            col = scipy.linalg.solve_triangular(L_group, e_k, lower=True, check_finite=False)\n",
    "            data[ptr[i] : ptr[i + 1]] = col[k:]\n",
    "            indices[ptr[i] : ptr[i + 1]] = s[k:]\n",
    "    return sparse.csc_matrix((data, indices, ptr), shape=(n, n))\n",
    "\n",
    "def aggregated_kl_cholesky(points, rho, lamb):\n",
    "    indices, lengths = reverse_maximin(points)\n",
    "    ordered_points = points[indices]\n",
    "    sparsity = naive_sparsity_pattern(ordered_points, lengths, rho)\n",
    "    groups, agg_sparsity = supernodes(sparsity, lengths, lamb)\n",
    "    kernel = kernels.Matern(length_scale=1.0, nu=0.5)\n",
    "    return aggregate_chol(ordered_points, kernel, agg_sparsity, groups)"
   ]
  },
  {
   "cell_type": "code",
   "execution_count": 14,
   "metadata": {
    "vscode": {
     "languageId": "latex"
    }
   },
   "outputs": [
    {
     "data": {
      "text/latex": [
       "The iterative method finds $L$ using the above methods, creates a new kernel matrix $L^T\\Theta L$ and then finds the sparse cholesky factor $L'$. The final result is $LL'$\n"
      ],
      "text/plain": [
       "<IPython.core.display.Latex object>"
      ]
     },
     "metadata": {},
     "output_type": "display_data"
    }
   ],
   "source": [
    "%%latex\n",
    "The iterative method finds $L$ using the above methods, creates a new kernel matrix $L^T\\Theta L$ and then finds the sparse cholesky factor $L'$. The final result is $LL'$"
   ]
  },
  {
   "cell_type": "code",
   "execution_count": 15,
   "metadata": {},
   "outputs": [],
   "source": [
    "def new_kernel_idx(points, kernel, L, r, c):\n",
    "    # calculate L.T @ theta @ L index at r and c\n",
    "    left_row = L.T[r]\n",
    "    right_col = L[:, c]\n",
    "    left_indices = left_row.indices\n",
    "    right_indices = right_col.indices\n",
    "    left_points = points[left_indices]\n",
    "    right_points = points[right_indices]\n",
    "    kernel_matrix = kernel(left_points, right_points)\n",
    "    result = np.dot(left_row.data, np.dot(kernel_matrix, right_col.data))\n",
    "    return result\n",
    "\n",
    "def iter_col(points, kernel, s, L, calculated_entries):\n",
    "    m = np.zeros((len(s), len(s)))\n",
    "    for i in range(len(s)):\n",
    "        for j in range(len(s)):\n",
    "            if (i, j) in calculated_entries: \n",
    "                m[i, j] = calculated_entries[(i, j)]\n",
    "            elif (j, i) in calculated_entries: \n",
    "                m[i, j] = calculated_entries[(j, i)]\n",
    "            else: \n",
    "                m[i, j] = new_kernel_idx(points, kernel, L, s[i], s[j])\n",
    "                calculated_entries[(i, j)] = m[i, j]\n",
    "    return col(m)\n",
    "\n",
    "def iter_chol(points, kernel, sparsity, L):\n",
    "    n = len(points)\n",
    "    ptr = np.cumsum([0] + [len(sparsity[i]) for i in range(n)])\n",
    "    data, indices = np.zeros(ptr[-1]), np.zeros(ptr[-1])\n",
    "    for i in range(n):\n",
    "        s = sorted(sparsity[i])\n",
    "        entries = {}\n",
    "        c = iter_col(points, kernel, s, L, entries)\n",
    "        data[ptr[i] : ptr[i + 1]] = c\n",
    "        indices[ptr[i] : ptr[i + 1]] = s\n",
    "    return sparse.csc_matrix((data, indices, ptr), shape=(n, n))\n",
    "\n",
    "def naive_iterative_kl_cholesky(points, rho):\n",
    "    indices, lengths = reverse_maximin(points)\n",
    "    ordered_points = points[indices]\n",
    "    sparsity = naive_sparsity_pattern(ordered_points, lengths, rho)\n",
    "    kernel = kernels.Matern(length_scale=1.0, nu=0.5)\n",
    "    L = chol(ordered_points, kernel, sparsity)\n",
    "    iter_L = iter_chol(ordered_points, kernel, sparsity, L)\n",
    "    return L, iter_L\n",
    "\n",
    "def iter_cols(points, kernel, sparsity, L):\n",
    "    m = np.zeros((len(sparsity), len(sparsity)))\n",
    "    for i in range(len(sparsity)):\n",
    "        for j in range(len(sparsity)):\n",
    "            m[i, j] = new_kernel_idx(points, kernel, L, i, j)\n",
    "    return cols(m)\n",
    "\n",
    "def aggregate_iter_chol(points, kernel, sparsity, groups, L):\n",
    "    n = len(points)\n",
    "    ptr = np.cumsum([0] + [len(sparsity[i]) for i in range(n)])\n",
    "    data, indices = np.zeros(ptr[-1]), np.zeros(ptr[-1])\n",
    "    for group in groups:\n",
    "        s = sorted(sparsity[group[0]])\n",
    "        positions = {i: k for k, i in enumerate(s)}\n",
    "        L_group = iter_cols(points, kernel, s, L)\n",
    "        for i in group:\n",
    "            k = positions[i]\n",
    "            e_k = np.zeros(len(s))\n",
    "            e_k[k] = 1\n",
    "            col = scipy.linalg.solve_triangular(L_group, e_k, lower=True, check_finite=False)\n",
    "            data[ptr[i] : ptr[i + 1]] = col[k:]\n",
    "            indices[ptr[i] : ptr[i + 1]] = s[k:]\n",
    "    return sparse.csc_matrix((data, indices, ptr), shape=(n, n))\n",
    "\n",
    "def iterative_aggregated_kl_cholesky(points, rho, lamb):\n",
    "    indices, lengths = reverse_maximin(points)\n",
    "    ordered_points = points[indices]\n",
    "    sparsity = naive_sparsity_pattern(ordered_points, lengths, rho)\n",
    "    groups, agg_sparsity = supernodes(sparsity, lengths, lamb)\n",
    "    kernel = kernels.Matern(length_scale=1.0, nu=0.5)\n",
    "    theta = kernel(ordered_points)\n",
    "    L = aggregate_chol(theta, agg_sparsity, groups)\n",
    "    new_kernel = L.T @ theta @ L\n",
    "    return L @ aggregate_chol(new_kernel, agg_sparsity, groups)"
   ]
  },
  {
   "cell_type": "code",
   "execution_count": 16,
   "metadata": {},
   "outputs": [],
   "source": [
    "points = create_points(1000)\n",
    "order, lengths = reverse_maximin(points)\n",
    "ordered_points = points[order]"
   ]
  },
  {
   "cell_type": "code",
   "execution_count": 25,
   "metadata": {},
   "outputs": [
    {
     "name": "stdout",
     "output_type": "stream",
     "text": [
      "10.9 s ± 152 ms per loop (mean ± std. dev. of 7 runs, 1 loop each)\n"
     ]
    }
   ],
   "source": [
    "%timeit sparsity_pattern(ordered_points, lengths, 3.0)"
   ]
  },
  {
   "cell_type": "code",
   "execution_count": 18,
   "metadata": {},
   "outputs": [
    {
     "name": "stdout",
     "output_type": "stream",
     "text": [
      "11.3 s ± 85.7 ms per loop (mean ± std. dev. of 7 runs, 1 loop each)\n"
     ]
    }
   ],
   "source": [
    "%timeit py_sparsity_pattern(ordered_points, lengths, 3.0)"
   ]
  },
  {
   "cell_type": "code",
   "execution_count": 26,
   "metadata": {},
   "outputs": [
    {
     "name": "stdout",
     "output_type": "stream",
     "text": [
      "3.76 s ± 28.5 ms per loop (mean ± std. dev. of 7 runs, 1 loop each)\n"
     ]
    }
   ],
   "source": [
    "sparsity = sparsity_pattern(ordered_points, lengths, 3.0)\n",
    "\n",
    "%timeit supernodes(sparsity, lengths, 1.5)"
   ]
  }
 ],
 "metadata": {
  "kernelspec": {
   "display_name": ".venv",
   "language": "python",
   "name": "python3"
  },
  "language_info": {
   "codemirror_mode": {
    "name": "ipython",
    "version": 3
   },
   "file_extension": ".py",
   "mimetype": "text/x-python",
   "name": "python",
   "nbconvert_exporter": "python",
   "pygments_lexer": "ipython3",
   "version": "3.11.9"
  }
 },
 "nbformat": 4,
 "nbformat_minor": 2
}
